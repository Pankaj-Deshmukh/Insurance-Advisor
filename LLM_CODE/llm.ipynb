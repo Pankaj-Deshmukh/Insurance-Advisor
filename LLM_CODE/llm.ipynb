{
 "cells": [
  {
   "cell_type": "code",
   "execution_count": 1,
   "metadata": {},
   "outputs": [
    {
     "name": "stderr",
     "output_type": "stream",
     "text": [
      "/home/pankaj-deshmukh/.local/lib/python3.10/site-packages/sentence_transformers/cross_encoder/CrossEncoder.py:11: TqdmExperimentalWarning: Using `tqdm.autonotebook.tqdm` in notebook mode. Use `tqdm.tqdm` instead to force console mode (e.g. in jupyter console)\n",
      "  from tqdm.autonotebook import tqdm, trange\n"
     ]
    }
   ],
   "source": [
    "# Import all the required libraries\n",
    "import pandas as pd\n",
    "from sentence_transformers import SentenceTransformer,util\n",
    "from sklearn.metrics.pairwise import cosine_similarity\n",
    "import subprocess"
   ]
  },
  {
   "cell_type": "code",
   "execution_count": 2,
   "metadata": {},
   "outputs": [
    {
     "name": "stdout",
     "output_type": "stream",
     "text": [
      "   premium  premium_monthly  premium_quaterly  premium_half_yearly        SA  \\\n",
      "0     9204              813            2393.0                 4694  10000000   \n",
      "1     9575              817               NaN                 4847  10000000   \n",
      "2    10686              935            2779.0                 5450  10000000   \n",
      "3     9086              802            2362.0                 4634  10000000   \n",
      "4     8669              740               NaN                 4389  10000000   \n",
      "\n",
      "                          Plan  \\\n",
      "0     Sampoorna Raksha Supreme   \n",
      "1  iProtect Smart Lumpsum Plan   \n",
      "2        Click 2 Protect Super   \n",
      "3     Sampoorna Raksha Supreme   \n",
      "4  iProtect Smart Lumpsum Plan   \n",
      "\n",
      "                                           Company  claim_ratio  \\\n",
      "0          TATA AIA Life Insurance Company Limited        99.13   \n",
      "1  ICICI Prudential Life Insurance Company Limited        99.17   \n",
      "2              HDFC Life Insurance Company Limited        99.50   \n",
      "3          TATA AIA Life Insurance Company Limited        99.13   \n",
      "4  ICICI Prudential Life Insurance Company Limited        99.17   \n",
      "\n",
      "                                    plan_description  \\\n",
      "0  This plan helps you ensure that happiness and ...   \n",
      "1  iProtect Smart Lumpsum Plan is a comprehensive...   \n",
      "2  This plan helps you ensure that happiness and ...   \n",
      "3  This plan helps you ensure that happiness and ...   \n",
      "4  iProtect Smart Lumpsum Plan is a comprehensive...   \n",
      "\n",
      "                       plan_features_1           plan_features_2  \\\n",
      "0  One Time: Rs. 10,000,000  on death                        NIL   \n",
      "1             Rs. 10,000,000  on death  Inbuilt terminal illness   \n",
      "2  One Time: Rs. 10,000,000  on death                        NIL   \n",
      "3  One Time: Rs. 10,000,000  on death                        NIL   \n",
      "4             Rs. 10,000,000  on death  Inbuilt terminal illness   \n",
      "\n",
      "                           plan_features_3  age  Term  \\\n",
      "0                  Complete online process   24     6   \n",
      "1  Inbuilt Waiver of Premium on disability   24     6   \n",
      "2                  Complete online process   24     6   \n",
      "3                  Complete online process   24     8   \n",
      "4  Inbuilt Waiver of Premium on disability   24     8   \n",
      "\n",
      "                                        combined_str  \n",
      "0  Age =24 Term=6 Premuim =9204 Company =TATA AIA...  \n",
      "1  Age =24 Term=6 Premuim =9575 Company =ICICI Pr...  \n",
      "2  Age =24 Term=6 Premuim =10686 Company =HDFC Li...  \n",
      "3  Age =24 Term=8 Premuim =9086 Company =TATA AIA...  \n",
      "4  Age =24 Term=8 Premuim =8669 Company =ICICI Pr...  \n"
     ]
    }
   ],
   "source": [
    "# Load your CSV data\n",
    "df = pd.read_csv('/home/pankaj-deshmukh/LocalSend/data_final1.csv')\n",
    "print(df.head())"
   ]
  },
  {
   "cell_type": "code",
   "execution_count": 3,
   "metadata": {},
   "outputs": [],
   "source": [
    "# Load pre-trained sentence transformer model\n",
    "model = SentenceTransformer('bert-base-nli-mean-tokens')\n",
    "\n",
    "# Encode the DataFrame rows\n",
    "df['combined_str'] = df['combined_str'].apply(lambda x: model.encode(x))\n",
    "# data.head()\n",
    "\n",
    "def get_similar_items(combined_input, df, model, top_n=5):\n",
    "    combined_embedding = model.encode(combined_input)\n",
    "    # Calculate cosine similarity between the combined input and all other combined texts\n",
    "    similarities = util.pytorch_cos_sim(combined_embedding, df['combined_str'])\n",
    "    #print(similarities)\n",
    "    # Get the indices of top N similar items\n",
    "    similar_indices = similarities.argsort(descending=True, axis=1)[0][:top_n]\n",
    "    #print(similar_indices)\n",
    "    # Retrieve the similar items from the DataFrame\n",
    "    similar_items_df = df.iloc[similar_indices][['age', 'Term', 'Plan', 'Company', 'premium']].reset_index(drop=True)\n",
    "    #print(similar_items)\n",
    "    return similar_items_df"
   ]
  },
  {
   "cell_type": "code",
   "execution_count": 4,
   "metadata": {},
   "outputs": [],
   "source": [
    "def generate_response_with_ollama(prompt):\n",
    "    # Modify this command to suit your local LLM API or interaction method\n",
    "    result = subprocess.run(['ollama', 'run', 'mistral'], input=prompt, capture_output=True, text=True) # change it to llama3 for better response but it is slow.\n",
    "    return result.stdout"
   ]
  },
  {
   "cell_type": "code",
   "execution_count": 5,
   "metadata": {},
   "outputs": [
    {
     "name": "stderr",
     "output_type": "stream",
     "text": [
      "/home/pankaj-deshmukh/.local/lib/python3.10/site-packages/sentence_transformers/util.py:33: UserWarning: Creating a tensor from a list of numpy.ndarrays is extremely slow. Please consider converting the list to a single numpy.ndarray with numpy.array() before converting to a tensor. (Triggered internally at ../torch/csrc/utils/tensor_new.cpp:274.)\n",
      "  a = torch.tensor(a)\n"
     ]
    },
    {
     "name": "stdout",
     "output_type": "stream",
     "text": [
      "<function get_similar_items at 0x762f79d7fbe0>\n",
      "Relevant Response Retrieved:\n",
      "   age  Term                   Plan                              Company  \\\n",
      "0   24     7  Click 2 Protect Super  HDFC Life Insurance Company Limited   \n",
      "1   19     7  Click 2 Protect Super  HDFC Life Insurance Company Limited   \n",
      "2   18     7  Click 2 Protect Super  HDFC Life Insurance Company Limited   \n",
      "3   23     7  Click 2 Protect Super  HDFC Life Insurance Company Limited   \n",
      "4   19     6  Click 2 Protect Super  HDFC Life Insurance Company Limited   \n",
      "\n",
      "   premium  \n",
      "0     9898  \n",
      "1     9605  \n",
      "2     9605  \n",
      "3     9730  \n",
      "4    10178  \n"
     ]
    }
   ],
   "source": [
    "# Example query\n",
    "query = \"give me hdfc policies\"\n",
    "response = get_similar_items(query, df, model)\n",
    "print(\"Relevant Response Retrieved:\")\n",
    "print(response)\n",
    "\n",
    "# Combine retrieved data with the query to generate a detailed response\n",
    "detailed_prompt = f\"Based on the data:\\n {response.to_dict()},\\n Assume your a policy advisor, explain the given policies row wise for the given question: '{query}':\"\n",
    "final_response = generate_response_with_ollama(detailed_prompt)\n",
    "print(final_response)"
   ]
  }
 ],
 "metadata": {
  "kernelspec": {
   "display_name": "Python 3",
   "language": "python",
   "name": "python3"
  },
  "language_info": {
   "codemirror_mode": {
    "name": "ipython",
    "version": 3
   },
   "file_extension": ".py",
   "mimetype": "text/x-python",
   "name": "python",
   "nbconvert_exporter": "python",
   "pygments_lexer": "ipython3",
   "version": "3.10.12"
  }
 },
 "nbformat": 4,
 "nbformat_minor": 2
}
